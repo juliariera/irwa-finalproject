{
 "cells": [
  {
   "cell_type": "markdown",
   "metadata": {},
   "source": [
    "# RQ3 Link Analysis: 2020 US Elections "
   ]
  },
  {
   "cell_type": "code",
   "execution_count": 28,
   "metadata": {},
   "outputs": [],
   "source": [
    "import json\n",
    "import pandas as pd\n",
    "import numpy as np\n",
    "import networkx as nx"
   ]
  },
  {
   "cell_type": "markdown",
   "metadata": {},
   "source": [
    "Import donwloaded tweets"
   ]
  },
  {
   "cell_type": "code",
   "execution_count": 2,
   "metadata": {},
   "outputs": [],
   "source": [
    "with open(\"data/final_project.json\", \"rb\") as f:\n",
    "    data = f.readlines()\n",
    "    data = [json.loads(str_) for str_ in data]"
   ]
  },
  {
   "cell_type": "code",
   "execution_count": 3,
   "metadata": {},
   "outputs": [],
   "source": [
    "df_tweets = pd.DataFrame.from_records(data)"
   ]
  },
  {
   "cell_type": "code",
   "execution_count": 4,
   "metadata": {},
   "outputs": [
    {
     "name": "stdout",
     "output_type": "stream",
     "text": [
      "The total number of tweets is: 111925\n"
     ]
    }
   ],
   "source": [
    "print(\"The total number of tweets is: {}\" .format(len(df_tweets)))"
   ]
  },
  {
   "cell_type": "markdown",
   "metadata": {},
   "source": [
    "From the tweets you downloaded, generate the retweet graph. The directed final graph G = (V,E) is constituted by all the users retweeting at least once, and a generic edge (u,v) means that users u retweeted at least once a tweet posted by the user v. In this part, we’re going to test some contact recommendation algorithms to predict next retweets:"
   ]
  },
  {
   "cell_type": "markdown",
   "metadata": {},
   "source": [
    "a. Generate the retweet graph"
   ]
  },
  {
   "cell_type": "code",
   "execution_count": 5,
   "metadata": {},
   "outputs": [],
   "source": [
    "# Take the tweets that are a retweet\n",
    "df_retweets = df_tweets[df_tweets[\"text\"].apply(lambda x: x[:2]) == \"RT\"]"
   ]
  },
  {
   "cell_type": "code",
   "execution_count": 6,
   "metadata": {},
   "outputs": [
    {
     "name": "stderr",
     "output_type": "stream",
     "text": [
      "C:\\Users\\julia\\anaconda3\\lib\\site-packages\\pandas\\core\\frame.py:3990: SettingWithCopyWarning: \n",
      "A value is trying to be set on a copy of a slice from a DataFrame\n",
      "\n",
      "See the caveats in the documentation: https://pandas.pydata.org/pandas-docs/stable/user_guide/indexing.html#returning-a-view-versus-a-copy\n",
      "  return super().drop(\n"
     ]
    },
    {
     "name": "stdout",
     "output_type": "stream",
     "text": [
      "The number of removed tweets is: 12\n"
     ]
    }
   ],
   "source": [
    "#Remove tweets that have a corrupted retweeted status\n",
    "removed_tweets = 0\n",
    "\n",
    "for pos, tweet in df_retweets.iterrows():\n",
    "    tweet_id = df_retweets[\"id\"][pos]\n",
    "\n",
    "    # Compute number of likes and number of retweets for the tweet\n",
    "    retweeted_status = df_retweets[\"retweeted_status\"][pos]\n",
    "    if isinstance(retweeted_status,dict) != True:\n",
    "        df_retweets.drop([pos], inplace=True)\n",
    "        removed_tweets += 1\n",
    "                \n",
    "print(\"The number of removed tweets is: {}\" .format(removed_tweets))"
   ]
  },
  {
   "cell_type": "code",
   "execution_count": 7,
   "metadata": {},
   "outputs": [],
   "source": [
    "df_graph = pd.DataFrame(columns=[\"source\", \"destination\"])\n",
    "\n",
    "# add source-nodes\n",
    "df_graph[\"source\"] = df_retweets[\"user\"].apply(lambda x: x[\"screen_name\"]) #Retrieve name of user retweeting\n",
    "\n",
    "# add destination-nodes\n",
    "df_graph[\"destination\"] = df_retweets[\"retweeted_status\"].apply(lambda x: x[\"user\"][\"screen_name\"]) #Retrieve name of user that is being retweeted"
   ]
  },
  {
   "cell_type": "code",
   "execution_count": 8,
   "metadata": {},
   "outputs": [
    {
     "data": {
      "text/html": [
       "<div>\n",
       "<style scoped>\n",
       "    .dataframe tbody tr th:only-of-type {\n",
       "        vertical-align: middle;\n",
       "    }\n",
       "\n",
       "    .dataframe tbody tr th {\n",
       "        vertical-align: top;\n",
       "    }\n",
       "\n",
       "    .dataframe thead th {\n",
       "        text-align: right;\n",
       "    }\n",
       "</style>\n",
       "<table border=\"1\" class=\"dataframe\">\n",
       "  <thead>\n",
       "    <tr style=\"text-align: right;\">\n",
       "      <th></th>\n",
       "      <th>source</th>\n",
       "      <th>destination</th>\n",
       "    </tr>\n",
       "  </thead>\n",
       "  <tbody>\n",
       "    <tr>\n",
       "      <th>0</th>\n",
       "      <td>wabisabine</td>\n",
       "      <td>Amy_Siskind</td>\n",
       "    </tr>\n",
       "    <tr>\n",
       "      <th>1</th>\n",
       "      <td>nikriv2</td>\n",
       "      <td>AdamParkhomenko</td>\n",
       "    </tr>\n",
       "    <tr>\n",
       "      <th>2</th>\n",
       "      <td>FoxfireStronomy</td>\n",
       "      <td>tara_atrandom</td>\n",
       "    </tr>\n",
       "    <tr>\n",
       "      <th>3</th>\n",
       "      <td>haschke_sam</td>\n",
       "      <td>realDonaldTrump</td>\n",
       "    </tr>\n",
       "    <tr>\n",
       "      <th>4</th>\n",
       "      <td>LisPG168</td>\n",
       "      <td>realTrumpForce</td>\n",
       "    </tr>\n",
       "  </tbody>\n",
       "</table>\n",
       "</div>"
      ],
      "text/plain": [
       "            source      destination\n",
       "0       wabisabine      Amy_Siskind\n",
       "1          nikriv2  AdamParkhomenko\n",
       "2  FoxfireStronomy    tara_atrandom\n",
       "3      haschke_sam  realDonaldTrump\n",
       "4         LisPG168   realTrumpForce"
      ]
     },
     "execution_count": 8,
     "metadata": {},
     "output_type": "execute_result"
    }
   ],
   "source": [
    "df_graph.drop_duplicates(inplace=True)\n",
    "df_graph.head()"
   ]
  },
  {
   "cell_type": "markdown",
   "metadata": {},
   "source": [
    "b. Split the edges in train/test, where the test is given by the 30% of the edges of the graph. These edges are sampling by random from the whole edge list."
   ]
  },
  {
   "cell_type": "code",
   "execution_count": 27,
   "metadata": {},
   "outputs": [],
   "source": [
    "# Generate test with 30% of edges\n",
    "df_retweets_test = df_retweets.sample(frac=0.3, random_state=1)\n",
    "\n",
    "#Generate train with remaining edges (70%)\n",
    "df_retweets_train = df_retweets.drop(df_retweets_test.index)"
   ]
  },
  {
   "cell_type": "markdown",
   "metadata": {},
   "source": [
    "c. Network-based predictions: Train 4 different algorithms to predict the edges in the test. The prediction is supposed to be done only using the edges information and run over only the edges at distance 2 (friends of friends) of the source nodes contained in the test-set. \n",
    "\n",
    "The list of potential recommendations are given only by all the friends-of-friends of the source\n",
    "nodes included in the test-set. \n",
    "\n",
    "The training phase is instead applied over all 70% remaining edges."
   ]
  },
  {
   "cell_type": "markdown",
   "metadata": {},
   "source": [
    "c.1. Adamic-Adar"
   ]
  },
  {
   "cell_type": "code",
   "execution_count": 29,
   "metadata": {},
   "outputs": [
    {
     "ename": "NetworkXError",
     "evalue": "Edge tuple ['Sun Nov 22 09:01:08 +0000 2020' 1330436137874288643\n '1330436137874288643'\n 'RT @Amy_Siskind: Biden has surpassed a 6 million popular vote victory margin as he approaches 80 million votes. \\n\\nHe won the electoral coll…'\n '<a href=\"http://twitter.com/download/android\" rel=\"nofollow\">Twitter for Android</a>'\n False nan None nan None None\n {'id': 2360551810, 'id_str': '2360551810', 'name': 'wabi sabi', 'screen_name': 'wabisabine', 'location': None, 'url': None, 'description': None, 'translator_type': 'none', 'protected': False, 'verified': False, 'followers_count': 281, 'friends_count': 2999, 'listed_count': 7, 'favourites_count': 17327, 'statuses_count': 89681, 'created_at': 'Sun Feb 23 10:33:20 +0000 2014', 'utc_offset': None, 'time_zone': None, 'geo_enabled': False, 'lang': None, 'contributors_enabled': False, 'is_translator': False, 'profile_background_color': 'C0DEED', 'profile_background_image_url': 'http://abs.twimg.com/images/themes/theme1/bg.png', 'profile_background_image_url_https': 'https://abs.twimg.com/images/themes/theme1/bg.png', 'profile_background_tile': False, 'profile_link_color': '1DA1F2', 'profile_sidebar_border_color': 'C0DEED', 'profile_sidebar_fill_color': 'DDEEF6', 'profile_text_color': '333333', 'profile_use_background_image': True, 'profile_image_url': 'http://pbs.twimg.com/profile_images/772968539691048961/F4zURWmS_normal.jpg', 'profile_image_url_https': 'https://pbs.twimg.com/profile_images/772968539691048961/F4zURWmS_normal.jpg', 'profile_banner_url': 'https://pbs.twimg.com/profile_banners/2360551810/1602479941', 'default_profile': True, 'default_profile_image': False, 'following': None, 'follow_request_sent': None, 'notifications': None}\n None None None None\n {'created_at': 'Sat Nov 21 14:45:02 +0000 2020', 'id': 1330160296128892933, 'id_str': '1330160296128892933', 'text': 'Biden has surpassed a 6 million popular vote victory margin as he approaches 80 million votes. \\n\\nHe won the elector… https://t.co/OEH4WG6F2t', 'source': '<a href=\"http://twitter.com/download/iphone\" rel=\"nofollow\">Twitter for iPhone</a>', 'truncated': True, 'in_reply_to_status_id': None, 'in_reply_to_status_id_str': None, 'in_reply_to_user_id': None, 'in_reply_to_user_id_str': None, 'in_reply_to_screen_name': None, 'user': {'id': 15976705, 'id_str': '15976705', 'name': 'Amy Siskind', 'screen_name': 'Amy_Siskind', 'location': 'New York', 'url': 'https://AmySiskind.com', 'description': 'Activist, feminist, author. The Weekly List website, podcast https://t.co/tsD5bH0kXa & book. POLITICO 50. Pres of @TheNewAgenda. Fmr Wall Street exec. She/her 🏳️\\u200d🌈', 'translator_type': 'none', 'protected': False, 'verified': True, 'followers_count': 498245, 'friends_count': 298, 'listed_count': 3945, 'favourites_count': 68564, 'statuses_count': 84894, 'created_at': 'Mon Aug 25 02:52:25 +0000 2008', 'utc_offset': None, 'time_zone': None, 'geo_enabled': True, 'lang': None, 'contributors_enabled': False, 'is_translator': False, 'profile_background_color': '0099B9', 'profile_background_image_url': 'http://abs.twimg.com/images/themes/theme4/bg.gif', 'profile_background_image_url_https': 'https://abs.twimg.com/images/themes/theme4/bg.gif', 'profile_background_tile': False, 'profile_link_color': '0099B9', 'profile_sidebar_border_color': '5ED4DC', 'profile_sidebar_fill_color': '95E8EC', 'profile_text_color': '3C3940', 'profile_use_background_image': True, 'profile_image_url': 'http://pbs.twimg.com/profile_images/1302091524470169600/fCGkHJ5k_normal.jpg', 'profile_image_url_https': 'https://pbs.twimg.com/profile_images/1302091524470169600/fCGkHJ5k_normal.jpg', 'profile_banner_url': 'https://pbs.twimg.com/profile_banners/15976705/1600542625', 'default_profile': False, 'default_profile_image': False, 'following': None, 'follow_request_sent': None, 'notifications': None}, 'geo': None, 'coordinates': None, 'place': None, 'contributors': None, 'is_quote_status': False, 'extended_tweet': {'full_text': 'Biden has surpassed a 6 million popular vote victory margin as he approaches 80 million votes. \\n\\nHe won the electoral college 306-236. \\n\\nEspecially against an incumbent, this is a blowout and decisive, not a close race. The American people need to hear the truth.', 'display_text_range': [0, 263], 'entities': {'hashtags': [], 'urls': [], 'user_mentions': [], 'symbols': []}}, 'quote_count': 209, 'reply_count': 158, 'retweet_count': 2649, 'favorite_count': 10934, 'entities': {'hashtags': [], 'urls': [{'url': 'https://t.co/OEH4WG6F2t', 'expanded_url': 'https://twitter.com/i/web/status/1330160296128892933', 'display_url': 'twitter.com/i/web/status/1…', 'indices': [117, 140]}], 'user_mentions': [], 'symbols': []}, 'favorited': False, 'retweeted': False, 'filter_level': 'low', 'lang': 'en'}\n False 0 0 0 0\n {'hashtags': [], 'urls': [], 'user_mentions': [{'screen_name': 'Amy_Siskind', 'name': 'Amy Siskind', 'id': 15976705, 'id_str': '15976705', 'indices': [3, 15]}], 'symbols': []}\n False False 'low' 'en' '1606035668234' nan nan nan nan nan nan nan nan\n nan] must be a 2-tuple or 3-tuple.",
     "output_type": "error",
     "traceback": [
      "\u001b[1;31m---------------------------------------------------------------------------\u001b[0m",
      "\u001b[1;31mNetworkXError\u001b[0m                             Traceback (most recent call last)",
      "\u001b[1;32m<ipython-input-29-4dbde9162d0c>\u001b[0m in \u001b[0;36m<module>\u001b[1;34m\u001b[0m\n\u001b[0;32m      1\u001b[0m \u001b[0mG_train\u001b[0m \u001b[1;33m=\u001b[0m \u001b[0mnx\u001b[0m\u001b[1;33m.\u001b[0m\u001b[0mDiGraph\u001b[0m\u001b[1;33m(\u001b[0m\u001b[1;33m)\u001b[0m\u001b[1;33m\u001b[0m\u001b[1;33m\u001b[0m\u001b[0m\n\u001b[1;32m----> 2\u001b[1;33m \u001b[0mG_train\u001b[0m\u001b[1;33m.\u001b[0m\u001b[0madd_edges_from\u001b[0m\u001b[1;33m(\u001b[0m\u001b[0mdf_retweets_train\u001b[0m\u001b[1;33m.\u001b[0m\u001b[0mvalues\u001b[0m\u001b[1;33m)\u001b[0m\u001b[1;33m\u001b[0m\u001b[1;33m\u001b[0m\u001b[0m\n\u001b[0m\u001b[0;32m      3\u001b[0m \u001b[1;33m\u001b[0m\u001b[0m\n\u001b[0;32m      4\u001b[0m \u001b[0mpreds\u001b[0m \u001b[1;33m=\u001b[0m \u001b[0mnx\u001b[0m\u001b[1;33m.\u001b[0m\u001b[0madamic_adar_index\u001b[0m\u001b[1;33m(\u001b[0m\u001b[0mG_train\u001b[0m\u001b[1;33m)\u001b[0m\u001b[1;33m\u001b[0m\u001b[1;33m\u001b[0m\u001b[0m\n",
      "\u001b[1;32m~\\anaconda3\\lib\\site-packages\\networkx\\classes\\digraph.py\u001b[0m in \u001b[0;36madd_edges_from\u001b[1;34m(self, ebunch_to_add, **attr)\u001b[0m\n\u001b[0;32m    687\u001b[0m                 \u001b[0mdd\u001b[0m \u001b[1;33m=\u001b[0m \u001b[1;33m{\u001b[0m\u001b[1;33m}\u001b[0m\u001b[1;33m\u001b[0m\u001b[1;33m\u001b[0m\u001b[0m\n\u001b[0;32m    688\u001b[0m             \u001b[1;32melse\u001b[0m\u001b[1;33m:\u001b[0m\u001b[1;33m\u001b[0m\u001b[1;33m\u001b[0m\u001b[0m\n\u001b[1;32m--> 689\u001b[1;33m                 raise NetworkXError(\n\u001b[0m\u001b[0;32m    690\u001b[0m                     \"Edge tuple %s must be a 2-tuple or 3-tuple.\" % (e,))\n\u001b[0;32m    691\u001b[0m             \u001b[1;32mif\u001b[0m \u001b[0mu\u001b[0m \u001b[1;32mnot\u001b[0m \u001b[1;32min\u001b[0m \u001b[0mself\u001b[0m\u001b[1;33m.\u001b[0m\u001b[0m_succ\u001b[0m\u001b[1;33m:\u001b[0m\u001b[1;33m\u001b[0m\u001b[1;33m\u001b[0m\u001b[0m\n",
      "\u001b[1;31mNetworkXError\u001b[0m: Edge tuple ['Sun Nov 22 09:01:08 +0000 2020' 1330436137874288643\n '1330436137874288643'\n 'RT @Amy_Siskind: Biden has surpassed a 6 million popular vote victory margin as he approaches 80 million votes. \\n\\nHe won the electoral coll…'\n '<a href=\"http://twitter.com/download/android\" rel=\"nofollow\">Twitter for Android</a>'\n False nan None nan None None\n {'id': 2360551810, 'id_str': '2360551810', 'name': 'wabi sabi', 'screen_name': 'wabisabine', 'location': None, 'url': None, 'description': None, 'translator_type': 'none', 'protected': False, 'verified': False, 'followers_count': 281, 'friends_count': 2999, 'listed_count': 7, 'favourites_count': 17327, 'statuses_count': 89681, 'created_at': 'Sun Feb 23 10:33:20 +0000 2014', 'utc_offset': None, 'time_zone': None, 'geo_enabled': False, 'lang': None, 'contributors_enabled': False, 'is_translator': False, 'profile_background_color': 'C0DEED', 'profile_background_image_url': 'http://abs.twimg.com/images/themes/theme1/bg.png', 'profile_background_image_url_https': 'https://abs.twimg.com/images/themes/theme1/bg.png', 'profile_background_tile': False, 'profile_link_color': '1DA1F2', 'profile_sidebar_border_color': 'C0DEED', 'profile_sidebar_fill_color': 'DDEEF6', 'profile_text_color': '333333', 'profile_use_background_image': True, 'profile_image_url': 'http://pbs.twimg.com/profile_images/772968539691048961/F4zURWmS_normal.jpg', 'profile_image_url_https': 'https://pbs.twimg.com/profile_images/772968539691048961/F4zURWmS_normal.jpg', 'profile_banner_url': 'https://pbs.twimg.com/profile_banners/2360551810/1602479941', 'default_profile': True, 'default_profile_image': False, 'following': None, 'follow_request_sent': None, 'notifications': None}\n None None None None\n {'created_at': 'Sat Nov 21 14:45:02 +0000 2020', 'id': 1330160296128892933, 'id_str': '1330160296128892933', 'text': 'Biden has surpassed a 6 million popular vote victory margin as he approaches 80 million votes. \\n\\nHe won the elector… https://t.co/OEH4WG6F2t', 'source': '<a href=\"http://twitter.com/download/iphone\" rel=\"nofollow\">Twitter for iPhone</a>', 'truncated': True, 'in_reply_to_status_id': None, 'in_reply_to_status_id_str': None, 'in_reply_to_user_id': None, 'in_reply_to_user_id_str': None, 'in_reply_to_screen_name': None, 'user': {'id': 15976705, 'id_str': '15976705', 'name': 'Amy Siskind', 'screen_name': 'Amy_Siskind', 'location': 'New York', 'url': 'https://AmySiskind.com', 'description': 'Activist, feminist, author. The Weekly List website, podcast https://t.co/tsD5bH0kXa & book. POLITICO 50. Pres of @TheNewAgenda. Fmr Wall Street exec. She/her 🏳️\\u200d🌈', 'translator_type': 'none', 'protected': False, 'verified': True, 'followers_count': 498245, 'friends_count': 298, 'listed_count': 3945, 'favourites_count': 68564, 'statuses_count': 84894, 'created_at': 'Mon Aug 25 02:52:25 +0000 2008', 'utc_offset': None, 'time_zone': None, 'geo_enabled': True, 'lang': None, 'contributors_enabled': False, 'is_translator': False, 'profile_background_color': '0099B9', 'profile_background_image_url': 'http://abs.twimg.com/images/themes/theme4/bg.gif', 'profile_background_image_url_https': 'https://abs.twimg.com/images/themes/theme4/bg.gif', 'profile_background_tile': False, 'profile_link_color': '0099B9', 'profile_sidebar_border_color': '5ED4DC', 'profile_sidebar_fill_color': '95E8EC', 'profile_text_color': '3C3940', 'profile_use_background_image': True, 'profile_image_url': 'http://pbs.twimg.com/profile_images/1302091524470169600/fCGkHJ5k_normal.jpg', 'profile_image_url_https': 'https://pbs.twimg.com/profile_images/1302091524470169600/fCGkHJ5k_normal.jpg', 'profile_banner_url': 'https://pbs.twimg.com/profile_banners/15976705/1600542625', 'default_profile': False, 'default_profile_image': False, 'following': None, 'follow_request_sent': None, 'notifications': None}, 'geo': None, 'coordinates': None, 'place': None, 'contributors': None, 'is_quote_status': False, 'extended_tweet': {'full_text': 'Biden has surpassed a 6 million popular vote victory margin as he approaches 80 million votes. \\n\\nHe won the electoral college 306-236. \\n\\nEspecially against an incumbent, this is a blowout and decisive, not a close race. The American people need to hear the truth.', 'display_text_range': [0, 263], 'entities': {'hashtags': [], 'urls': [], 'user_mentions': [], 'symbols': []}}, 'quote_count': 209, 'reply_count': 158, 'retweet_count': 2649, 'favorite_count': 10934, 'entities': {'hashtags': [], 'urls': [{'url': 'https://t.co/OEH4WG6F2t', 'expanded_url': 'https://twitter.com/i/web/status/1330160296128892933', 'display_url': 'twitter.com/i/web/status/1…', 'indices': [117, 140]}], 'user_mentions': [], 'symbols': []}, 'favorited': False, 'retweeted': False, 'filter_level': 'low', 'lang': 'en'}\n False 0 0 0 0\n {'hashtags': [], 'urls': [], 'user_mentions': [{'screen_name': 'Amy_Siskind', 'name': 'Amy Siskind', 'id': 15976705, 'id_str': '15976705', 'indices': [3, 15]}], 'symbols': []}\n False False 'low' 'en' '1606035668234' nan nan nan nan nan nan nan nan\n nan] must be a 2-tuple or 3-tuple."
     ]
    }
   ],
   "source": [
    "G_train = nx.DiGraph()\n",
    "G_train.add_edges_from(df_retweets_train.values)\n",
    "\n",
    "preds = nx.adamic_adar_index(G_train)"
   ]
  },
  {
   "cell_type": "code",
   "execution_count": null,
   "metadata": {},
   "outputs": [],
   "source": [
    "import networkx as nx\n",
    ">>> G = nx.complete_graph(5)\n",
    ">>> preds = nx.adamic_adar_index(G, [(0, 1), (2, 3)])\n",
    ">>> for u, v, p in preds:\n",
    "...     '(%d, %d) -> %.8f' % (u, v, p)\n",
    "...\n",
    "'(0, 1) -> 2.16404256'\n",
    "'(2, 3) -> 2.16404256'"
   ]
  },
  {
   "cell_type": "markdown",
   "metadata": {},
   "source": [
    "c.2. Alternative Least Squares"
   ]
  },
  {
   "cell_type": "code",
   "execution_count": null,
   "metadata": {},
   "outputs": [],
   "source": []
  },
  {
   "cell_type": "markdown",
   "metadata": {},
   "source": [
    "c.3. Pagerank"
   ]
  },
  {
   "cell_type": "code",
   "execution_count": null,
   "metadata": {},
   "outputs": [],
   "source": []
  },
  {
   "cell_type": "markdown",
   "metadata": {},
   "source": [
    "c.4. Node2vec"
   ]
  },
  {
   "cell_type": "code",
   "execution_count": null,
   "metadata": {},
   "outputs": [],
   "source": []
  },
  {
   "cell_type": "markdown",
   "metadata": {},
   "source": [
    "d. Generate a top-10 list of recommendations for all the source nodes present in the test-set."
   ]
  },
  {
   "cell_type": "code",
   "execution_count": null,
   "metadata": {},
   "outputs": [],
   "source": []
  },
  {
   "cell_type": "markdown",
   "metadata": {},
   "source": [
    "RQ 3A - Which is the best algorithm among the 4 selected in terms of accuracy? HINT - Use the nDCG, plus one other measurest (of your choice) to compare the results."
   ]
  },
  {
   "cell_type": "code",
   "execution_count": null,
   "metadata": {},
   "outputs": [],
   "source": [
    "# evaluation"
   ]
  },
  {
   "cell_type": "markdown",
   "metadata": {},
   "source": [
    "Now, trying to exploit other features, like text from tweets or other users' information try to answer the next question.\n",
    "\n",
    "RQ 3B - Propose a new strategy to predict the links in the test-set. Which is the accuracy of the new algorithm if compared with the previous ones? Explain in detail the strategy you used and prove its effectiveness."
   ]
  },
  {
   "cell_type": "code",
   "execution_count": null,
   "metadata": {},
   "outputs": [],
   "source": []
  }
 ],
 "metadata": {
  "kernelspec": {
   "display_name": "Python 3",
   "language": "python",
   "name": "python3"
  },
  "language_info": {
   "codemirror_mode": {
    "name": "ipython",
    "version": 3
   },
   "file_extension": ".py",
   "mimetype": "text/x-python",
   "name": "python",
   "nbconvert_exporter": "python",
   "pygments_lexer": "ipython3",
   "version": "3.8.3"
  }
 },
 "nbformat": 4,
 "nbformat_minor": 4
}
